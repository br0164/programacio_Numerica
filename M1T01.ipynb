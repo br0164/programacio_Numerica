{
 "cells": [
  {
   "attachments": {
    "imagen.png": {
     "image/png": "[encoded data removed]"
    }
   },
   "cell_type": "markdown",
   "id": "f5f609ad",
   "metadata": {},
   "source": [
    "# Mòdul 1\n",
    "#### Introducció a NumPy\n",
    "##### NumPy (Numerical Python) és una llibreria per a Python, escrita en Python C i C++, enfocada a treballar amb arrays i té funcions d'àlgebra lineal, transformades de fourier, matrius, etc.\n",
    "D'entrada, Python té objectes 'llista' per treballar com es faria amb arrays, però són lents de processar. NumPy aporta objectes 'array', anomenats 'ndarray', i funcions de suport, que permeten treballar més ràpid que amb llistes (x50). Això es deu a com s'emmagatzemen els arreys, en un lloc continu de memòria ('locality') i també a una optimització per a les CPU modernes.\n",
    "En l'àmbit de la ciència de dades es treballa molt amb arrays, ja que la velocitat i els recursos són molt rellevants.\n",
    "#### Recordatori de les característiques del arrays\n",
    "##### Els objectes són estructures de dades; en el cas dels arrays, consisteix en una taula/matriu de dades indexades. Segons la mida de l'array, es defineix el seu rang (rank, dimensions) i la forma (shape, la mida de cada dimensió, presentada coma tupla dimensió-mida).\n",
    "#### Instal·lació de la llibreria NumPy\n",
    "##### Des del terminal de Windows:\n",
    "pip install numpy\n",
    "##### O bé des del terminal de conda:\n",
    "conda install numpy\n",
    "##### Per utilitzar la llibreria en un codi Pyton:\n",
    "import numpy as np\n",
    "\n",
    "![imagen.png](attachment:imagen.png)\n",
    "## Tasca 1 (M1 T01) Programació numèrica amb NumPy\n",
    "### Exercici 1\n",
    "##### Crea una funció que donat un Array d’una dimensió, et faci un resum estadístic bàsic de les dades. Si detecta que l’array té més d’una dimensió, ha de mostrar un missatge d’error."
   ]
  },
  {
   "cell_type": "code",
   "execution_count": 20,
   "id": "9f1364e2",
   "metadata": {},
   "outputs": [],
   "source": [
    "import numpy as np\n",
    "import pandas as pd\n",
    "def f11(a):\n",
    "    dim = a.ndim # Es calcula la dimensió de l'array d'entrada\n",
    "    if dim > 1:\n",
    "        print('Array de dimensió > 1:',str(dim))\n",
    "        return\n",
    "    else:\n",
    "        print('Ok, array de dimensió:',str(dim))\n",
    "        a = pd.Series(a, dtype=float) # es converteix a un array de Pandas\n",
    "        return a.describe() #càlcul del resum estadístic i output"
   ]
  },
  {
   "cell_type": "markdown",
   "id": "3caaee5c",
   "metadata": {},
   "source": [
    "##### Nota: S'aprofita el mètode 'describe' de la llibreria Pandas; per fer-ho cal convertir el NumPy-array a un array de Pandas, que en aquest cas és una Serie, ja que té una sola dimensió.\n",
    "Utilitzo la funció sobre un parell d'arrays per provar-la:"
   ]
  },
  {
   "cell_type": "code",
   "execution_count": 21,
   "id": "4e256c68",
   "metadata": {},
   "outputs": [
    {
     "name": "stdout",
     "output_type": "stream",
     "text": [
      "Prova del primer array:\n",
      "Array de dimensió > 1: 2\n",
      "Prova del segon array:\n",
      "Ok, array de dimensió: 1\n"
     ]
    },
    {
     "data": {
      "text/plain": [
       "count    12.000000\n",
       "mean      9.675000\n",
       "std       9.439677\n",
       "min       0.200000\n",
       "25%       3.125000\n",
       "50%       7.000000\n",
       "75%      13.250000\n",
       "max      26.000000\n",
       "dtype: float64"
      ]
     },
     "execution_count": 21,
     "metadata": {},
     "output_type": "execute_result"
    }
   ],
   "source": [
    "a1 = np.array([[5,0.2,24,9],[4,0.5,26,8],[6,0.4,23,10]])\n",
    "a2 = np.array([5,0.2,24,9,4,0.5,26,8,6,0.4,23,10])\n",
    "print('Prova del primer array:')\n",
    "f11(a1)\n",
    "print('Prova del segon array:')\n",
    "f11(a2)"
   ]
  },
  {
   "cell_type": "markdown",
   "id": "b2ec1273",
   "metadata": {},
   "source": [
    "##### El primer és de dimensió 2, però el segon és correcte i se'n calculen els paràmetres estadístics bàsics."
   ]
  },
  {
   "cell_type": "markdown",
   "id": "dfba29b5",
   "metadata": {},
   "source": [
    "### Exercici 2\n",
    "##### Crea una funció que et generi un quadrat NxN de nombres aleatoris entre el 0 i el 100."
   ]
  },
  {
   "cell_type": "code",
   "execution_count": 23,
   "id": "854f5ad5",
   "metadata": {},
   "outputs": [],
   "source": [
    "import numpy as np\n",
    "def f12(n):\n",
    "    # Es crea un Generator\n",
    "    # default_rng is the recommended constructor for the random number class Generator\n",
    "    # no es posa llavor pq l'agafi aleatòria\n",
    "    rng = np.random.default_rng() \n",
    "    # Es generen N valors enters entre 0 i 100 per omplir la matriu n x n\n",
    "    N = n*n\n",
    "    rints = rng.integers(low=0, high=101, size=N)#high és exclusiu\n",
    "    # Es dona forma a la matriu\n",
    "    quadrat = np.reshape(rints,(n,n))\n",
    "    return quadrat"
   ]
  },
  {
   "cell_type": "markdown",
   "id": "ee65c231",
   "metadata": {},
   "source": [
    "##### Es prova la funció i es veu que s'obtenen valors entre 0 i 100, aleatoris i endreçats en la mida especificada."
   ]
  },
  {
   "cell_type": "code",
   "execution_count": 24,
   "id": "8687ea59",
   "metadata": {},
   "outputs": [
    {
     "data": {
      "text/plain": [
       "array([[ 23, 100,  31,  31,  29,  82, 100,  53],\n",
       "       [ 54,  98,  72,  11,  30,  25,  74,  71],\n",
       "       [  5,  79,  46,  18,  41,  80,  99,  38],\n",
       "       [  6,  90,  85,  63,  53,  68,  27,   4],\n",
       "       [ 48,  61,  90,  95,  56,  57,  23,  57],\n",
       "       [ 80,  87,  44,  58,  48,  73,  63,  91],\n",
       "       [ 81,  18,  88,  95,  98,  75,  74,  48],\n",
       "       [ 64,   0,  30,  59,  15,  47,  21,  99]], dtype=int64)"
      ]
     },
     "execution_count": 24,
     "metadata": {},
     "output_type": "execute_result"
    }
   ],
   "source": [
    "f12(8)"
   ]
  },
  {
   "cell_type": "code",
   "execution_count": 25,
   "id": "11b2013a",
   "metadata": {},
   "outputs": [
    {
     "data": {
      "text/plain": [
       "array([[33, 10, 25, 83],\n",
       "       [21, 23, 22, 64],\n",
       "       [91, 57, 47, 50],\n",
       "       [15, 20, 97, 90]], dtype=int64)"
      ]
     },
     "execution_count": 25,
     "metadata": {},
     "output_type": "execute_result"
    }
   ],
   "source": [
    "f12(4)"
   ]
  },
  {
   "cell_type": "code",
   "execution_count": 26,
   "id": "1bdc366b",
   "metadata": {},
   "outputs": [
    {
     "data": {
      "text/plain": [
       "array([[66, 55, 81,  7],\n",
       "       [ 0, 63, 39, 52],\n",
       "       [ 9, 72, 90, 40],\n",
       "       [85, 34, 54, 88]], dtype=int64)"
      ]
     },
     "execution_count": 26,
     "metadata": {},
     "output_type": "execute_result"
    }
   ],
   "source": [
    "f12(4)"
   ]
  },
  {
   "cell_type": "markdown",
   "id": "e200aea0",
   "metadata": {},
   "source": [
    "### Exercici 3\n",
    "##### Crea una funció que donada una taula de dues dimensions, et calculi els totals per fila i els totals per columna."
   ]
  },
  {
   "cell_type": "code",
   "execution_count": 9,
   "id": "ead8030b",
   "metadata": {},
   "outputs": [],
   "source": [
    "def f13(t):\n",
    "    if t.ndim != 2:\n",
    "        print('Error, la taula ha de ser de dimensió 2!')\n",
    "        return\n",
    "    else:\n",
    "        F,C = t.shape #Es calcula el nombre de files i de columnes\n",
    "        f = np.array([]) #Array que emmagatzemarà els totals de les files\n",
    "        c = np.array([]) #Ídem per les columnes\n",
    "        \n",
    "        for i in range(F):\n",
    "            f = np.append(f,np.sum(t[i,:]))\n",
    "        for i in range(C):\n",
    "            c = np.append(c,np.sum(t[:,i]))\n",
    "        print('La taula entrada té ',F,' files i ',C,' columnes.\\n Les sumes de les files són:\\n',f,'\\n i les de les columnes:\\n',c)\n",
    "    return"
   ]
  },
  {
   "cell_type": "code",
   "execution_count": 10,
   "id": "5f669dd1",
   "metadata": {
    "scrolled": true
   },
   "outputs": [
    {
     "name": "stdout",
     "output_type": "stream",
     "text": [
      "[[  8.5   3.   15.   -4. ]\n",
      " [ 54.    1.1 -10.    0. ]]\n",
      "La taula entrada té  2  files i  4  columnes.\n",
      " Les sumes de les files són:\n",
      " [22.5 45.1] \n",
      " i les de les columnes:\n",
      " [62.5  4.1  5.  -4. ]\n"
     ]
    }
   ],
   "source": [
    "import numpy as np\n",
    "t1 = np.array([[8.5,3,15,-4],[54,1.1,-10,0]])\n",
    "print(t1)\n",
    "f13(t1)"
   ]
  },
  {
   "cell_type": "code",
   "execution_count": null,
   "id": "05702941",
   "metadata": {},
   "outputs": [],
   "source": []
  },
  {
   "cell_type": "markdown",
   "id": "a182d37c",
   "metadata": {},
   "source": [
    "### Exercici 4\n",
    "##### Implementa manualment una funció que calculi el coeficient de correlació. Informa’t-en sobre els seus usos i interpretació.\n",
    "#### Sobre el coeficient de correlació.\n",
    "##### El coeficient de correlació mesura la relació entre dues variables. El seu valor pot osicil·lar entre 1 i -1: 1 implica una relació exacte, perfecte entre les dues variables, mentre que 0 implicaria que no hi ha cap relació en absolut; per altra banda, el signe indica el sentit d'aquesta relació, directe o invers, és a dir si creixen o decreixen alhora o inversament.\n",
    "#### Definició d'una funció que calculi el coeficient de correlació"
   ]
  },
  {
   "cell_type": "code",
   "execution_count": 60,
   "id": "832bd7e6",
   "metadata": {},
   "outputs": [],
   "source": [
    "def corr_coef(x,y):\n",
    "    import numpy as np\n",
    "    #covariància de x,y\n",
    "    cov = np.mean((x - np.mean(x))*(y - np.mean(y)).T)\n",
    "    #desviacions típiques de x i de y\n",
    "    sx = np.std(x)\n",
    "    sy = np.std(y)\n",
    "    #coeficient de correlació\n",
    "    corr = cov/(sx*sy)\n",
    "    return corr"
   ]
  },
  {
   "cell_type": "code",
   "execution_count": 61,
   "id": "320a9a8a",
   "metadata": {},
   "outputs": [
    {
     "name": "stdout",
     "output_type": "stream",
     "text": [
      "x:  [25  4  4  5 14] ; y:  [ 8 27 19 10 25] \n",
      "El coeficient de correlació calculat és:\n",
      "\n"
     ]
    },
    {
     "data": {
      "text/plain": [
       "-0.4491131080400371"
      ]
     },
     "execution_count": 61,
     "metadata": {},
     "output_type": "execute_result"
    }
   ],
   "source": [
    "import numpy as np\n",
    "x = np.random.randint(1,30,size=5)\n",
    "y = np.random.randint(1,30,size=5)\n",
    "print(\"x: \",x,\"; y: \", y,\"\\nEl coeficient de correlació calculat és:\\n\")\n",
    "corr_coef(x,y)"
   ]
  },
  {
   "cell_type": "markdown",
   "id": "060f16ee",
   "metadata": {},
   "source": [
    "##### Es pot comparar amb la funció pròpia de NumPy que calcula el mateix coeficient:"
   ]
  },
  {
   "cell_type": "code",
   "execution_count": 62,
   "id": "7588a42b",
   "metadata": {},
   "outputs": [
    {
     "data": {
      "text/plain": [
       "array([[ 1.        , -0.44911311],\n",
       "       [-0.44911311,  1.        ]])"
      ]
     },
     "execution_count": 62,
     "metadata": {},
     "output_type": "execute_result"
    }
   ],
   "source": [
    "np.corrcoef(x,y)"
   ]
  }
 ],
 "metadata": {
  "kernelspec": {
   "display_name": "Python 3",
   "language": "python",
   "name": "python3"
  },
  "language_info": {
   "codemirror_mode": {
    "name": "ipython",
    "version": 3
   },
   "file_extension": ".py",
   "mimetype": "text/x-python",
   "name": "python",
   "nbconvert_exporter": "python",
   "pygments_lexer": "ipython3",
   "version": "3.8.8"
  }
 },
 "nbformat": 4,
 "nbformat_minor": 5
}
